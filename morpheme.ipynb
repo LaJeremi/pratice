{
 "cells": [
  {
   "cell_type": "code",
   "execution_count": 1,
   "metadata": {},
   "outputs": [],
   "source": [
    "text = '''(강릉=뉴스1) 이종재 기자 = 강원 강릉시의 한 해수욕장에서 물놀이하던 20대 남성이 물에 빠져 심정지 상태로 구조됐지만 끝내 숨졌다.\n",
    "29일 속초해경과 강원도소방본부에 따르면 지난 28일 오후 4시1분쯤 강릉시 주문진읍 주문리 소돌해변에서 ‘사람이 빠진 것 같다. 사라졌다’는 신고가 접수됐다.\n",
    "당시 여자 친구와 물놀이하러 해변을 찾은 A 씨(24‧인천)는 튜브를 타던 여자 친구가 바다 쪽으로 표류하자, 근처로 가서 해변 쪽으로 튜브를 밀어준 뒤 파도에 휩쓸린 것으로 전해졌다. A 씨는 튜브를 착용하지 않은 상태였다.\n",
    "강릉지역 전 해수욕장은 지난 18일 폐장한 가운데 해당 해변은 비지정 해수욕장으로 운영돼 안전요원도 배치되지 않은 것으로 알려졌다.\n",
    "신고를 받고 출동한 해경은 해변에서 250m가량 떨어진 지점에서 A 씨를 10여 분만에 구조했다. 이후 해경 측 협조 요청을 받은 소방이 응급처치를 실시하며 심정지 상태의 A 씨를 인근 병원으로 이송했으나 결국 숨졌다.\n",
    "속초해경 관계자는 \"안전요원이 상주하고 있지 않은 폐장 해수욕장은 적절한 구조를 받기 어려워 굉장히 위험하다\"며 \"특히 기상이 좋지 않을 땐 가급적 물놀이를 피해야 한다\"고 당부했다.\n",
    "한편 고성 아야진과 천진해수욕장 2곳(31일 폐장)을 제외한 강원 동해안 모든 해수욕장은 올여름 운영을 마친 상태다.'''\n",
    "\n",
    "text_list = [line for line in text.split('\\n') if line]"
   ]
  },
  {
   "cell_type": "code",
   "execution_count": 2,
   "metadata": {},
   "outputs": [
    {
     "name": "stdout",
     "output_type": "stream",
     "text": [
      "Requirement already satisfied: bareunpy in /home/ahdfyd/myenv/lib/python3.12/site-packages (1.6.4)\n",
      "Requirement already satisfied: bareun-apis<0.13.0,>=0.12.0 in /home/ahdfyd/myenv/lib/python3.12/site-packages (from bareunpy) (0.12.0)\n",
      "Requirement already satisfied: googleapis-common-protos<2.0.0,>=1.56.0 in /home/ahdfyd/myenv/lib/python3.12/site-packages (from bareunpy) (1.65.0)\n",
      "Requirement already satisfied: grpcio<2.0.0,>=1.46.0 in /home/ahdfyd/myenv/lib/python3.12/site-packages (from bareunpy) (1.66.1)\n",
      "Requirement already satisfied: protobuf<4.0.0,>=3.19.4 in /home/ahdfyd/myenv/lib/python3.12/site-packages (from bareunpy) (3.20.3)\n",
      "Note: you may need to restart the kernel to use updated packages.\n"
     ]
    }
   ],
   "source": [
    "pip install --upgrade bareunpy"
   ]
  },
  {
   "cell_type": "code",
   "execution_count": 3,
   "metadata": {},
   "outputs": [],
   "source": [
    "from bareunpy import Tagger"
   ]
  },
  {
   "cell_type": "code",
   "execution_count": 4,
   "metadata": {},
   "outputs": [],
   "source": [
    "from bareunpy import Tagger"
   ]
  },
  {
   "cell_type": "code",
   "execution_count": 5,
   "metadata": {},
   "outputs": [],
   "source": [
    "api_key = \"koba-6N6IYTA-DMWU3GQ-WIOJLUI-KZOUQPA\" "
   ]
  },
  {
   "cell_type": "code",
   "execution_count": 6,
   "metadata": {},
   "outputs": [],
   "source": [
    "tagger = Tagger(api_key, 'localhost')"
   ]
  },
  {
   "cell_type": "code",
   "execution_count": 7,
   "metadata": {},
   "outputs": [],
   "source": [
    "result = tagger.tags([text])"
   ]
  },
  {
   "cell_type": "code",
   "execution_count": 8,
   "metadata": {},
   "outputs": [
    {
     "data": {
      "text/plain": [
       "[('(', 'SS'),\n",
       " ('강릉', 'NNP'),\n",
       " ('=', 'SW'),\n",
       " ('뉴스', 'NNG'),\n",
       " ('1', 'SN'),\n",
       " (')', 'SS'),\n",
       " ('이종재', 'NNP'),\n",
       " ('기자', 'NNG'),\n",
       " ('=', 'SW'),\n",
       " ('강원', 'NNP'),\n",
       " ('강릉시', 'NNP'),\n",
       " ('의', 'JKG'),\n",
       " ('한', 'MMN'),\n",
       " ('해수욕장', 'NNG'),\n",
       " ('에서', 'JKB'),\n",
       " ('물놀이하', 'VV'),\n",
       " ('던', 'ETM'),\n",
       " ('20', 'SN'),\n",
       " ('대', 'NNB'),\n",
       " ('남성', 'NNG'),\n",
       " ('이', 'JKS'),\n",
       " ('물', 'NNG'),\n",
       " ('에', 'JKB'),\n",
       " ('빠지', 'VV'),\n",
       " ('어', 'EC'),\n",
       " ('심정지', 'NNG'),\n",
       " ('상태', 'NNG'),\n",
       " ('로', 'JKB'),\n",
       " ('구조되', 'VV'),\n",
       " ('었', 'EP'),\n",
       " ('지만', 'EC'),\n",
       " ('끝내', 'MAG'),\n",
       " ('숨지', 'VV'),\n",
       " ('었', 'EP'),\n",
       " ('다', 'EF'),\n",
       " ('.', 'SF'),\n",
       " ('당시', 'NNG'),\n",
       " ('여자', 'NNG'),\n",
       " ('친구', 'NNG'),\n",
       " ('와', 'JKB'),\n",
       " ('물놀이하', 'VV'),\n",
       " ('러', 'EC'),\n",
       " ('해변', 'NNG'),\n",
       " ('을', 'JKO'),\n",
       " ('찾', 'VV'),\n",
       " ('은', 'ETM'),\n",
       " ('A', 'SL'),\n",
       " ('씨', 'NNB'),\n",
       " ('(', 'SS'),\n",
       " ('24', 'SN'),\n",
       " ('‧', 'NNG'),\n",
       " ('인천', 'NNP'),\n",
       " (')', 'SS'),\n",
       " ('는', 'JX'),\n",
       " ('튜브', 'NNG'),\n",
       " ('를', 'JKO'),\n",
       " ('타', 'VV'),\n",
       " ('던', 'ETM'),\n",
       " ('여자', 'NNG'),\n",
       " ('친구', 'NNG'),\n",
       " ('가', 'JKS'),\n",
       " ('바다', 'NNG'),\n",
       " ('쪽', 'NNB'),\n",
       " ('으로', 'JKB'),\n",
       " ('표류하', 'VV'),\n",
       " ('자', 'EC'),\n",
       " (',', 'SP'),\n",
       " ('근처', 'NNG'),\n",
       " ('로', 'JKB'),\n",
       " ('가', 'VV'),\n",
       " ('아서', 'EC'),\n",
       " ('해변', 'NNG'),\n",
       " ('쪽', 'NNB'),\n",
       " ('으로', 'JKB'),\n",
       " ('튜브', 'NNG'),\n",
       " ('를', 'JKO'),\n",
       " ('밀어주', 'VV'),\n",
       " ('ㄴ', 'ETM'),\n",
       " ('뒤', 'NNG'),\n",
       " ('파도', 'NNG'),\n",
       " ('에', 'JKB'),\n",
       " ('휩쓸리', 'VV'),\n",
       " ('ㄴ', 'ETM'),\n",
       " ('것', 'NNB'),\n",
       " ('으로', 'JKB'),\n",
       " ('전하', 'VV'),\n",
       " ('아', 'EC'),\n",
       " ('지', 'VX'),\n",
       " ('었', 'EP'),\n",
       " ('다', 'EF'),\n",
       " ('.', 'SF'),\n",
       " ('A', 'SL'),\n",
       " ('씨', 'NNB'),\n",
       " ('는', 'JX'),\n",
       " ('튜브', 'NNG'),\n",
       " ('를', 'JKO'),\n",
       " ('착용하', 'VV'),\n",
       " ('지', 'EC'),\n",
       " ('않', 'VX'),\n",
       " ('은', 'ETM'),\n",
       " ('상태', 'NNG'),\n",
       " ('이', 'VCP'),\n",
       " ('었', 'EP'),\n",
       " ('다', 'EF'),\n",
       " ('.', 'SF'),\n",
       " ('강릉지역', 'NNP'),\n",
       " ('전', 'MMD'),\n",
       " ('해수욕장', 'NNG'),\n",
       " ('은', 'JX'),\n",
       " ('지나', 'VV'),\n",
       " ('ㄴ', 'ETM'),\n",
       " ('18', 'SN'),\n",
       " ('일', 'NNB'),\n",
       " ('폐장하', 'VV'),\n",
       " ('ㄴ', 'ETM'),\n",
       " ('가운데', 'NNG'),\n",
       " ('해당', 'NNG'),\n",
       " ('해변', 'NNG'),\n",
       " ('은', 'JX'),\n",
       " ('비', 'XPN'),\n",
       " ('지정', 'NNG'),\n",
       " ('해수욕장', 'NNG'),\n",
       " ('으로', 'JKB'),\n",
       " ('운영되', 'VV'),\n",
       " ('어', 'EC'),\n",
       " ('안전', 'NNG'),\n",
       " ('요원', 'NNG'),\n",
       " ('도', 'JX'),\n",
       " ('배치되', 'VV'),\n",
       " ('지', 'EC'),\n",
       " ('않', 'VX'),\n",
       " ('은', 'ETM'),\n",
       " ('것', 'NNB'),\n",
       " ('으로', 'JKB'),\n",
       " ('알려지', 'VV'),\n",
       " ('었', 'EP'),\n",
       " ('다', 'EF'),\n",
       " ('.', 'SF'),\n",
       " ('신고', 'NNG'),\n",
       " ('를', 'JKO'),\n",
       " ('받', 'VV'),\n",
       " ('고', 'EC'),\n",
       " ('출동하', 'VV'),\n",
       " ('ㄴ', 'ETM'),\n",
       " ('해경', 'NNG'),\n",
       " ('은', 'JX'),\n",
       " ('해변', 'NNG'),\n",
       " ('에서', 'JKB'),\n",
       " ('250', 'SN'),\n",
       " ('m', 'SW'),\n",
       " ('가량', 'XSN'),\n",
       " ('떨어지', 'VV'),\n",
       " ('ㄴ', 'ETM'),\n",
       " ('지점', 'NNG'),\n",
       " ('에서', 'JKB'),\n",
       " ('A', 'SL'),\n",
       " ('씨', 'NNB'),\n",
       " ('를', 'JKO'),\n",
       " ('10', 'SN'),\n",
       " ('여', 'XSN'),\n",
       " ('분', 'NNB'),\n",
       " ('만', 'NNB'),\n",
       " ('에', 'JKB'),\n",
       " ('구조하', 'VV'),\n",
       " ('았', 'EP'),\n",
       " ('다', 'EF'),\n",
       " ('.', 'SF'),\n",
       " ('이후', 'NNG'),\n",
       " ('해경', 'NNG'),\n",
       " ('측', 'NNB'),\n",
       " ('협조', 'NNG'),\n",
       " ('요청', 'NNG'),\n",
       " ('을', 'JKO'),\n",
       " ('받', 'VV'),\n",
       " ('은', 'ETM'),\n",
       " ('소방', 'NNG'),\n",
       " ('이', 'JKS'),\n",
       " ('응급', 'NNG'),\n",
       " ('처치', 'NNG'),\n",
       " ('를', 'JKO'),\n",
       " ('실시하', 'VV'),\n",
       " ('며', 'EC'),\n",
       " ('심정지', 'NNG'),\n",
       " ('상태', 'NNG'),\n",
       " ('의', 'JKG'),\n",
       " ('A', 'SL'),\n",
       " ('씨', 'NNB'),\n",
       " ('를', 'JKO'),\n",
       " ('인근', 'NNG'),\n",
       " ('병원', 'NNG'),\n",
       " ('으로', 'JKB'),\n",
       " ('이송하', 'VV'),\n",
       " ('았', 'EP'),\n",
       " ('으나', 'EC'),\n",
       " ('결국', 'MAG'),\n",
       " ('숨지', 'VV'),\n",
       " ('었', 'EP'),\n",
       " ('다', 'EF'),\n",
       " ('.', 'SF'),\n",
       " ('속초해경', 'NNP'),\n",
       " ('관계자', 'NNG'),\n",
       " ('는', 'JX'),\n",
       " ('\"', 'SS'),\n",
       " ('안전', 'NNG'),\n",
       " ('요원', 'NNG'),\n",
       " ('이', 'JKS'),\n",
       " ('상주하', 'VV'),\n",
       " ('고', 'EC'),\n",
       " ('있', 'VX'),\n",
       " ('지', 'EC'),\n",
       " ('않', 'VX'),\n",
       " ('은', 'ETM'),\n",
       " ('폐장', 'NNP'),\n",
       " ('해수욕장', 'NNG'),\n",
       " ('은', 'JX'),\n",
       " ('적절하', 'VA'),\n",
       " ('ㄴ', 'ETM'),\n",
       " ('구조', 'NNG'),\n",
       " ('를', 'JKO'),\n",
       " ('받', 'VV'),\n",
       " ('기', 'ETN'),\n",
       " ('어렵', 'VA'),\n",
       " ('어', 'EC'),\n",
       " ('굉장히', 'MAG'),\n",
       " ('위험하', 'VA'),\n",
       " ('다', 'EF'),\n",
       " ('\"', 'SS'),\n",
       " ('며', 'EC'),\n",
       " ('\"', 'SS'),\n",
       " ('특히', 'MAG'),\n",
       " ('기상', 'NNG'),\n",
       " ('이', 'JKS'),\n",
       " ('좋', 'VA'),\n",
       " ('지', 'EC'),\n",
       " ('않', 'VX'),\n",
       " ('을', 'ETM'),\n",
       " ('때', 'NNG'),\n",
       " ('ㄴ', 'JX'),\n",
       " ('가급적', 'MAG'),\n",
       " ('물놀이', 'NNG'),\n",
       " ('를', 'JKO'),\n",
       " ('피하', 'VV'),\n",
       " ('아야', 'EC'),\n",
       " ('하', 'VX'),\n",
       " ('ㄴ다', 'EF'),\n",
       " ('\"', 'SS'),\n",
       " ('고', 'JKQ'),\n",
       " ('당부하', 'VV'),\n",
       " ('았', 'EP'),\n",
       " ('다', 'EF'),\n",
       " ('.', 'SF')]"
      ]
     },
     "execution_count": 8,
     "metadata": {},
     "output_type": "execute_result"
    }
   ],
   "source": [
    "result.pos()"
   ]
  },
  {
   "cell_type": "code",
   "execution_count": 9,
   "metadata": {},
   "outputs": [
    {
     "data": {
      "text/plain": [
       "['강릉',\n",
       " '뉴스',\n",
       " '이종재',\n",
       " '기자',\n",
       " '강원',\n",
       " '강릉시',\n",
       " '해수욕장',\n",
       " '대',\n",
       " '남성',\n",
       " '물',\n",
       " '심정지',\n",
       " '상태',\n",
       " '당시',\n",
       " '여자',\n",
       " '친구',\n",
       " '해변',\n",
       " '씨',\n",
       " '‧',\n",
       " '인천',\n",
       " '튜브',\n",
       " '여자',\n",
       " '친구',\n",
       " '바다',\n",
       " '쪽',\n",
       " '근처',\n",
       " '해변',\n",
       " '쪽',\n",
       " '튜브',\n",
       " '뒤',\n",
       " '파도',\n",
       " '것',\n",
       " '씨',\n",
       " '튜브',\n",
       " '상태',\n",
       " '강릉지역',\n",
       " '해수욕장',\n",
       " '일',\n",
       " '가운데',\n",
       " '해당',\n",
       " '해변',\n",
       " '지정',\n",
       " '해수욕장',\n",
       " '안전',\n",
       " '요원',\n",
       " '것',\n",
       " '신고',\n",
       " '해경',\n",
       " '해변',\n",
       " '지점',\n",
       " '씨',\n",
       " '분',\n",
       " '만',\n",
       " '이후',\n",
       " '해경',\n",
       " '측',\n",
       " '협조',\n",
       " '요청',\n",
       " '소방',\n",
       " '응급',\n",
       " '처치',\n",
       " '심정지',\n",
       " '상태',\n",
       " '씨',\n",
       " '인근',\n",
       " '병원',\n",
       " '속초해경',\n",
       " '관계자',\n",
       " '안전',\n",
       " '요원',\n",
       " '폐장',\n",
       " '해수욕장',\n",
       " '구조',\n",
       " '기상',\n",
       " '때',\n",
       " '물놀이']"
      ]
     },
     "execution_count": 9,
     "metadata": {},
     "output_type": "execute_result"
    }
   ],
   "source": [
    "result.nouns()"
   ]
  },
  {
   "cell_type": "code",
   "execution_count": 10,
   "metadata": {},
   "outputs": [],
   "source": [
    "from collections import Counter\n",
    "res_cnt = Counter(result.nouns())"
   ]
  },
  {
   "cell_type": "code",
   "execution_count": 11,
   "metadata": {},
   "outputs": [
    {
     "data": {
      "text/plain": [
       "[('해수욕장', 4),\n",
       " ('해변', 4),\n",
       " ('씨', 4),\n",
       " ('상태', 3),\n",
       " ('튜브', 3),\n",
       " ('심정지', 2),\n",
       " ('여자', 2),\n",
       " ('친구', 2),\n",
       " ('쪽', 2),\n",
       " ('것', 2),\n",
       " ('안전', 2),\n",
       " ('요원', 2),\n",
       " ('해경', 2),\n",
       " ('강릉', 1),\n",
       " ('뉴스', 1),\n",
       " ('이종재', 1),\n",
       " ('기자', 1),\n",
       " ('강원', 1),\n",
       " ('강릉시', 1),\n",
       " ('대', 1)]"
      ]
     },
     "execution_count": 11,
     "metadata": {},
     "output_type": "execute_result"
    }
   ],
   "source": [
    "res_cnt.most_common(20)"
   ]
  },
  {
   "cell_type": "code",
   "execution_count": 12,
   "metadata": {},
   "outputs": [],
   "source": [
    "res_cnt_dic = { mor:cnt for mor, cnt in res_cnt.most_common(20)}"
   ]
  },
  {
   "cell_type": "code",
   "execution_count": 13,
   "metadata": {},
   "outputs": [
    {
     "name": "stdout",
     "output_type": "stream",
     "text": [
      "Requirement already satisfied: matplotlib in /home/ahdfyd/myenv/lib/python3.12/site-packages (3.9.2)\n",
      "Requirement already satisfied: contourpy>=1.0.1 in /home/ahdfyd/myenv/lib/python3.12/site-packages (from matplotlib) (1.3.0)\n",
      "Requirement already satisfied: cycler>=0.10 in /home/ahdfyd/myenv/lib/python3.12/site-packages (from matplotlib) (0.12.1)\n",
      "Requirement already satisfied: fonttools>=4.22.0 in /home/ahdfyd/myenv/lib/python3.12/site-packages (from matplotlib) (4.53.1)\n",
      "Requirement already satisfied: kiwisolver>=1.3.1 in /home/ahdfyd/myenv/lib/python3.12/site-packages (from matplotlib) (1.4.7)\n",
      "Requirement already satisfied: numpy>=1.23 in /home/ahdfyd/myenv/lib/python3.12/site-packages (from matplotlib) (2.1.1)\n",
      "Requirement already satisfied: packaging>=20.0 in /home/ahdfyd/myenv/lib/python3.12/site-packages (from matplotlib) (24.1)\n",
      "Requirement already satisfied: pillow>=8 in /home/ahdfyd/myenv/lib/python3.12/site-packages (from matplotlib) (10.4.0)\n",
      "Requirement already satisfied: pyparsing>=2.3.1 in /home/ahdfyd/myenv/lib/python3.12/site-packages (from matplotlib) (3.1.4)\n",
      "Requirement already satisfied: python-dateutil>=2.7 in /home/ahdfyd/myenv/lib/python3.12/site-packages (from matplotlib) (2.9.0.post0)\n",
      "Requirement already satisfied: six>=1.5 in /home/ahdfyd/myenv/lib/python3.12/site-packages (from python-dateutil>=2.7->matplotlib) (1.16.0)\n",
      "Note: you may need to restart the kernel to use updated packages.\n"
     ]
    }
   ],
   "source": [
    "pip install --upgrade matplotlib"
   ]
  },
  {
   "cell_type": "code",
   "execution_count": 14,
   "metadata": {},
   "outputs": [],
   "source": [
    "import matplotlib.pyplot as plt\n",
    "plt.rcParams['font.family'] ='Malgun Gothic'\n",
    "plt.rcParams['axes.unicode_minus'] =False"
   ]
  },
  {
   "cell_type": "code",
   "execution_count": 15,
   "metadata": {},
   "outputs": [
    {
     "name": "stdout",
     "output_type": "stream",
     "text": [
      "Requirement already satisfied: wordcloud in /home/ahdfyd/myenv/lib/python3.12/site-packages (1.9.3)\n",
      "Requirement already satisfied: numpy>=1.6.1 in /home/ahdfyd/myenv/lib/python3.12/site-packages (from wordcloud) (2.1.1)\n",
      "Requirement already satisfied: pillow in /home/ahdfyd/myenv/lib/python3.12/site-packages (from wordcloud) (10.4.0)\n",
      "Requirement already satisfied: matplotlib in /home/ahdfyd/myenv/lib/python3.12/site-packages (from wordcloud) (3.9.2)\n",
      "Requirement already satisfied: contourpy>=1.0.1 in /home/ahdfyd/myenv/lib/python3.12/site-packages (from matplotlib->wordcloud) (1.3.0)\n",
      "Requirement already satisfied: cycler>=0.10 in /home/ahdfyd/myenv/lib/python3.12/site-packages (from matplotlib->wordcloud) (0.12.1)\n",
      "Requirement already satisfied: fonttools>=4.22.0 in /home/ahdfyd/myenv/lib/python3.12/site-packages (from matplotlib->wordcloud) (4.53.1)\n",
      "Requirement already satisfied: kiwisolver>=1.3.1 in /home/ahdfyd/myenv/lib/python3.12/site-packages (from matplotlib->wordcloud) (1.4.7)\n",
      "Requirement already satisfied: packaging>=20.0 in /home/ahdfyd/myenv/lib/python3.12/site-packages (from matplotlib->wordcloud) (24.1)\n",
      "Requirement already satisfied: pyparsing>=2.3.1 in /home/ahdfyd/myenv/lib/python3.12/site-packages (from matplotlib->wordcloud) (3.1.4)\n",
      "Requirement already satisfied: python-dateutil>=2.7 in /home/ahdfyd/myenv/lib/python3.12/site-packages (from matplotlib->wordcloud) (2.9.0.post0)\n",
      "Requirement already satisfied: six>=1.5 in /home/ahdfyd/myenv/lib/python3.12/site-packages (from python-dateutil>=2.7->matplotlib->wordcloud) (1.16.0)\n",
      "Note: you may need to restart the kernel to use updated packages.\n"
     ]
    }
   ],
   "source": [
    "pip install --upgrade wordcloud"
   ]
  },
  {
   "cell_type": "code",
   "execution_count": 16,
   "metadata": {},
   "outputs": [],
   "source": [
    "import matplotlib.pyplot as plt\n",
    "plt.rcParams['font.family'] = 'Malgun Gothic'\n",
    "plt.rcParams['axes.unicode_minus'] = False"
   ]
  },
  {
   "cell_type": "code",
   "execution_count": 17,
   "metadata": {},
   "outputs": [
    {
     "name": "stderr",
     "output_type": "stream",
     "text": [
      "findfont: Font family 'Malgun Gothic' not found.\n",
      "findfont: Font family 'Malgun Gothic' not found.\n",
      "findfont: Font family 'Malgun Gothic' not found.\n",
      "findfont: Font family 'Malgun Gothic' not found.\n",
      "findfont: Font family 'Malgun Gothic' not found.\n",
      "findfont: Font family 'Malgun Gothic' not found.\n",
      "findfont: Font family 'Malgun Gothic' not found.\n",
      "findfont: Font family 'Malgun Gothic' not found.\n",
      "findfont: Font family 'Malgun Gothic' not found.\n",
      "findfont: Font family 'Malgun Gothic' not found.\n",
      "findfont: Font family 'Malgun Gothic' not found.\n",
      "findfont: Font family 'Malgun Gothic' not found.\n",
      "findfont: Font family 'Malgun Gothic' not found.\n",
      "findfont: Font family 'Malgun Gothic' not found.\n",
      "findfont: Font family 'Malgun Gothic' not found.\n",
      "findfont: Font family 'Malgun Gothic' not found.\n",
      "findfont: Font family 'Malgun Gothic' not found.\n",
      "findfont: Font family 'Malgun Gothic' not found.\n",
      "findfont: Font family 'Malgun Gothic' not found.\n",
      "findfont: Font family 'Malgun Gothic' not found.\n",
      "findfont: Font family 'Malgun Gothic' not found.\n",
      "findfont: Font family 'Malgun Gothic' not found.\n",
      "findfont: Font family 'Malgun Gothic' not found.\n",
      "findfont: Font family 'Malgun Gothic' not found.\n",
      "findfont: Font family 'Malgun Gothic' not found.\n",
      "findfont: Font family 'Malgun Gothic' not found.\n",
      "findfont: Font family 'Malgun Gothic' not found.\n",
      "findfont: Font family 'Malgun Gothic' not found.\n",
      "findfont: Font family 'Malgun Gothic' not found.\n",
      "findfont: Font family 'Malgun Gothic' not found.\n",
      "findfont: Font family 'Malgun Gothic' not found.\n",
      "findfont: Font family 'Malgun Gothic' not found.\n",
      "findfont: Font family 'Malgun Gothic' not found.\n",
      "findfont: Font family 'Malgun Gothic' not found.\n",
      "findfont: Font family 'Malgun Gothic' not found.\n",
      "findfont: Font family 'Malgun Gothic' not found.\n",
      "findfont: Font family 'Malgun Gothic' not found.\n",
      "findfont: Font family 'Malgun Gothic' not found.\n",
      "findfont: Font family 'Malgun Gothic' not found.\n",
      "findfont: Font family 'Malgun Gothic' not found.\n",
      "findfont: Font family 'Malgun Gothic' not found.\n",
      "findfont: Font family 'Malgun Gothic' not found.\n"
     ]
    },
    {
     "data": {
      "image/png": "[encoded data removed]",
      "text/plain": [
       "<Figure size 640x480 with 1 Axes>"
      ]
     },
     "metadata": {},
     "output_type": "display_data"
    }
   ],
   "source": [
    "from wordcloud import WordCloud\n",
    "wc = WordCloud(font_path=\"/usr/share/fonts/truetype/nanum/NanumGothic.ttf\", background_color=\"white\", max_font_size=60)\n",
    "cloud = wc.generate_from_frequencies(res_cnt_dic)\n",
    "plt.imshow(cloud)\n",
    "plt.show()"
   ]
  },
  {
   "cell_type": "code",
   "execution_count": null,
   "metadata": {},
   "outputs": [],
   "source": []
  }
 ],
 "metadata": {
  "kernelspec": {
   "display_name": "myenv",
   "language": "python",
   "name": "python3"
  },
  "language_info": {
   "codemirror_mode": {
    "name": "ipython",
    "version": 3
   },
   "file_extension": ".py",
   "mimetype": "text/x-python",
   "name": "python",
   "nbconvert_exporter": "python",
   "pygments_lexer": "ipython3",
   "version": "3.12.3"
  },
  "vscode": {
   "interpreter": {
    "hash": "e333cacf75b36cc0945ac95d95758995dca8d50fae705ae97995ce335d0cd9f7"
   }
  }
 },
 "nbformat": 4,
 "nbformat_minor": 4
}
